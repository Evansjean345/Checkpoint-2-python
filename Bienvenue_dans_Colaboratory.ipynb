{
  "cells": [
    {
      "cell_type": "code",
      "source": [
        "#question 1\n",
        "\n",
        "def main():\n",
        "    \n",
        "    name=input(\"entrer votre nom\")\n",
        "    firt_name=input(\"entrer votre prenom\")\n",
        "    print(\"votre nom est \",name)\n",
        "    print(\"votre prenom est \",firt_name)\n",
        "    \n",
        "if __name__ == '__main__':\n",
        "    main()\n",
        "    "
      ],
      "metadata": {
        "id": "gM-izW9zgXLa"
      },
      "execution_count": null,
      "outputs": []
    },
    {
      "cell_type": "code",
      "source": [
        "#question 2\n",
        "def main():\n",
        "    \n",
        "    n=5\n",
        "    nn=55\n",
        "    nnn=555\n",
        "    result=n+nn+nnn\n",
        "    print(\"le resultat est \",str(result))\n",
        "    \n",
        "if __name__ == '__main__':\n",
        "    main()"
      ],
      "metadata": {
        "id": "hIvdEuyPhd0E"
      },
      "execution_count": null,
      "outputs": []
    },
    {
      "cell_type": "code",
      "source": [
        "#question 3\n",
        "def main():\n",
        "    \n",
        "    user_nbr=int(input(\"entrer un nombre\"))\n",
        "    if (user_nbr % 2==0):\n",
        "        print('votre nombre est pair')\n",
        "    else:\n",
        "        (user_nbr % 2!=0)\n",
        "        print(\"votre nombre est impair\")\n",
        "    \n",
        "    \n",
        "\n",
        "if __name__ == '__main__':\n",
        "    main()"
      ],
      "metadata": {
        "id": "YeHUizxZjtJ4"
      },
      "execution_count": null,
      "outputs": []
    },
    {
      "cell_type": "code",
      "source": [
        "#question 4\n",
        "def main():\n",
        "    \n",
        "    number=7\n",
        "    number_2=5\n",
        "    for i in range(2000,3200):\n",
        "        if (i % number ==0 and i % number_2 !=0):\n",
        "            print(\"le nombre multiple de 7 qui n'est pas multiple de 5 est \",i )\n",
        "            \n",
        "if __name__ == '__main__':\n",
        "    main()"
      ],
      "metadata": {
        "id": "fyr3TRgQjyWr"
      },
      "execution_count": null,
      "outputs": []
    },
    {
      "cell_type": "code",
      "source": [
        "#question 5\n",
        "def main():\n",
        "    \n",
        "    number=int(input(\"entrer un nombre\"))\n",
        "    from math import factorial\n",
        "    print(\"le factorielle de \",str(number),\"est\",factorial(number))\n",
        "    \n",
        " \n",
        "            \n",
        "if __name__ == '__main__':\n",
        "    main()"
      ],
      "metadata": {
        "id": "w_505aDfmmwG"
      },
      "execution_count": null,
      "outputs": []
    },
    {
      "cell_type": "code",
      "source": [
        "#question 6\n",
        "def exo(s):        \n",
        "    new_s = \"\" \n",
        "    i = 0\n",
        "    while i < len(s): \n",
        "        if (i % 2 == 1):\n",
        "            i+= 1\n",
        "            continue\n",
        "        new_s += s[i]\n",
        "        i+= 1\n",
        "    return new_s \n",
        "if __name__ == '__main__': \n",
        "    str = input(\"\")\n",
        "    str = exo(str) \n",
        "    print(str)"
      ],
      "metadata": {
        "id": "GkKn3mOipvEN"
      },
      "execution_count": null,
      "outputs": []
    },
    {
      "cell_type": "code",
      "source": [
        "#question 7\n",
        "def main():\n",
        "    \n",
        "    price=int(input(\"veuillez saisir le prix\"))\n",
        "    if price >= 500:\n",
        "        print(\"vous avez une reise de 50% sur le prix de votre article\")\n",
        "    if price >=200 and price <=500:\n",
        "        print('Vous avez remise de 30% sur le prix de votre article')\n",
        "    if price < 200:\n",
        "        print(\"Vous avez une remise de 10% sur le prix de votre article\")\n",
        "    \n",
        "if __name__ == '__main__':\n",
        "    main()"
      ],
      "metadata": {
        "id": "B4fREpLar6Y8"
      },
      "execution_count": null,
      "outputs": []
    }
  ],
  "metadata": {
    "colab": {
      "collapsed_sections": [],
      "name": "Bienvenue dans Colaboratory",
      "toc_visible": true,
      "provenance": []
    },
    "kernelspec": {
      "display_name": "Python 3",
      "name": "python3"
    }
  },
  "nbformat": 4,
  "nbformat_minor": 0
}